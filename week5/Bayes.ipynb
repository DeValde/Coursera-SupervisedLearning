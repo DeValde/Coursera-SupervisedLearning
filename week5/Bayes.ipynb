{
 "cells": [
  {
   "cell_type": "code",
   "execution_count": 1,
   "metadata": {
    "collapsed": true
   },
   "outputs": [],
   "source": [
    "from sklearn import datasets\n",
    "from sklearn.model_selection import cross_val_score\n",
    "from sklearn.naive_bayes      import BernoulliNB, MultinomialNB, GaussianNB\n",
    "import numpy as np"
   ]
  },
  {
   "cell_type": "code",
   "execution_count": 3,
   "outputs": [],
   "source": [
    "digits        = datasets.load_digits()\n",
    "breast_cancer = datasets.load_breast_cancer()"
   ],
   "metadata": {
    "collapsed": false,
    "pycharm": {
     "name": "#%%\n"
    }
   }
  },
  {
   "cell_type": "code",
   "execution_count": 4,
   "outputs": [],
   "source": [
    "X_digits = digits.data\n",
    "y_digits = digits.target\n",
    "\n",
    "X_breast = breast_cancer.data\n",
    "y_breast = breast_cancer.target\n"
   ],
   "metadata": {
    "collapsed": false,
    "pycharm": {
     "name": "#%%\n"
    }
   }
  },
  {
   "cell_type": "code",
   "execution_count": 6,
   "outputs": [],
   "source": [
    "BernoulliNB_clf   = BernoulliNB()\n",
    "MultinomialNB_clf = MultinomialNB()\n",
    "GaussianNB_clf    = GaussianNB()"
   ],
   "metadata": {
    "collapsed": false,
    "pycharm": {
     "name": "#%%\n"
    }
   }
  },
  {
   "cell_type": "code",
   "execution_count": 8,
   "outputs": [],
   "source": [
    "digitBernoulli = cross_val_score(BernoulliNB_clf,X_digits,y_digits).mean()\n",
    "digitMulti = cross_val_score(MultinomialNB_clf,X_digits,y_digits).mean()\n",
    "digitGaussian = cross_val_score(GaussianNB_clf,X_digits,y_digits).mean()\n",
    "\n",
    "breastBernoulli = cross_val_score(BernoulliNB_clf,X_breast,y_breast).mean()\n",
    "breastMulti = cross_val_score(MultinomialNB_clf,X_breast,y_breast).mean()\n",
    "breastGaussian = cross_val_score(GaussianNB_clf,X_breast,y_breast).mean()"
   ],
   "metadata": {
    "collapsed": false,
    "pycharm": {
     "name": "#%%\n"
    }
   }
  },
  {
   "cell_type": "code",
   "execution_count": 11,
   "outputs": [
    {
     "name": "stdout",
     "output_type": "stream",
     "text": [
      "digits:\n",
      " 0.8241736304549674 \n",
      " 0.8703497369235531 \n",
      " 0.8069281956050759 \n",
      "\n",
      "breast_cancer \n",
      " 0.6274181027790716 \n",
      " 0.8963204471355379 \n",
      " 0.9385188635305075 \n",
      "\n"
     ]
    }
   ],
   "source": [
    "print(\"digits:\\n\",digitBernoulli,\"\\n\",digitMulti, \"\\n\", digitGaussian, \"\\n\" )\n",
    "print(\"breast_cancer\", \"\\n\",breastBernoulli, \"\\n\",breastMulti, \"\\n\",breastGaussian, \"\\n\")"
   ],
   "metadata": {
    "collapsed": false,
    "pycharm": {
     "name": "#%%\n"
    }
   }
  },
  {
   "cell_type": "code",
   "execution_count": 16,
   "outputs": [],
   "source": [
    "def write(answer,name):\n",
    "    with open(name,\"w\") as fout:\n",
    "        fout.write(answer)\n",
    "\n",
    "answer_1 = '0.936749280609'\n",
    "answer_2 = '0.870877148974'\n",
    "answer_3 = '3 4'\n",
    "\n",
    "write(answer_1, 'answer_1.txt')\n",
    "write(answer_2, 'answer_2.txt')\n",
    "write(answer_3, 'answer_3.txt')\n"
   ],
   "metadata": {
    "collapsed": false,
    "pycharm": {
     "name": "#%%\n"
    }
   }
  }
 ],
 "metadata": {
  "kernelspec": {
   "display_name": "Python 3",
   "language": "python",
   "name": "python3"
  },
  "language_info": {
   "codemirror_mode": {
    "name": "ipython",
    "version": 2
   },
   "file_extension": ".py",
   "mimetype": "text/x-python",
   "name": "python",
   "nbconvert_exporter": "python",
   "pygments_lexer": "ipython2",
   "version": "2.7.6"
  }
 },
 "nbformat": 4,
 "nbformat_minor": 0
}